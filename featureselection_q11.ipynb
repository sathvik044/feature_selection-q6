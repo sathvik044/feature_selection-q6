{
  "nbformat": 4,
  "nbformat_minor": 0,
  "metadata": {
    "colab": {
      "provenance": [],
      "authorship_tag": "ABX9TyN8Z6hXzASGdYHY1HmfntSW",
      "include_colab_link": true
    },
    "kernelspec": {
      "name": "python3",
      "display_name": "Python 3"
    },
    "language_info": {
      "name": "python"
    }
  },
  "cells": [
    {
      "cell_type": "markdown",
      "metadata": {
        "id": "view-in-github",
        "colab_type": "text"
      },
      "source": [
        "<a href=\"https://colab.research.google.com/github/sathvik044/feature_selection-q6/blob/main/featureselection_q11.ipynb\" target=\"_parent\"><img src=\"https://colab.research.google.com/assets/colab-badge.svg\" alt=\"Open In Colab\"/></a>"
      ]
    },
    {
      "cell_type": "code",
      "execution_count": null,
      "metadata": {
        "id": "QMqXkzCETUAe"
      },
      "outputs": [],
      "source": [
        "import pandas as pd\n",
        "import numpy as np\n",
        "import matplotlib.pyplot as plt\n",
        "from sklearn.model_selection import train_test_split\n",
        "from sklearn.ensemble import RandomForestClassifier\n",
        "from sklearn.metrics import accuracy_score\n",
        "import seaborn as sns\n",
        "\n",
        "data=pd.read_csv('/content/diabetes.csv')\n",
        "x=data.drop(['Outcome'],axis=1)\n",
        "print(x.shape)\n",
        "y=data['Outcome']\n",
        "\n",
        "X_train, X_test, y_train, y_test = train_test_split(x, y, test_size=0.3, random_state=42)\n",
        "\n",
        "rf = RandomForestClassifier(n_estimators=10, random_state=42)\n",
        "rf.fit(X_train, y_train)\n",
        "importances = rf.feature_importances_\n",
        "print(\"feature importance:\",importances)\n",
        "\n",
        "indices = np.argsort(importances)[::-1]\n",
        "feature_names = x.columns\n",
        "\n",
        "print(\"Ranked Features (Descending Order):\")\n",
        "for i in indices:\n",
        "    print(f\"{feature_names[i]}: {importances[i]}\")\n",
        "sns.barplot(x=importances, y=x.columns)\n",
        "plt.xlabel('Feature Importance Score')\n",
        "plt.ylabel('Features')\n",
        "plt.title(\"Visualizing Important Features\")\n",
        "plt.show()\n",
        "\n",
        "top_features = feature_names[indices][:5]\n",
        "print(\"Top 5 features:\",top_features)\n",
        "X_train_reduced = X_train[top_features]\n",
        "X_test_reduced = X_test[top_features]\n",
        "rf_reduced = RandomForestClassifier(n_estimators=100, random_state=42)\n",
        "rf_reduced.fit(X_train_reduced, y_train)\n",
        "\n",
        "y_pred_reduced = rf_reduced.predict(X_test_reduced)\n",
        "accuracy_reduced = accuracy_score(y_test, y_pred_reduced)\n",
        "\n",
        "print(f\"Accuracy with all features: {accuracy_score(y_test, rf.predict(X_test))}\")\n",
        "print(f\"Accuracy with top 5 features: {accuracy_reduced}\")\n"
      ]
    }
  ]
}